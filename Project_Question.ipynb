{
 "cells": [
  {
   "cell_type": "markdown",
   "metadata": {},
   "source": [
    "**Project Question**\n",
    "\n",
    "**What is the question you hope to answer?**\n",
    "\n",
    "The question is to determine where in world will a new Air BnB user book their first travel.  The ability to predict when a new user will allow AirBnb to target users with better opportunities for finding a location.  Ultimately this should lead to a better user experience. \n",
    "\n",
    "**What data are you planning to use to answer that question?**\n",
    "I plan to use various user actions provided by the service provider that include the following: \n",
    "Countries\n",
    "Age\n",
    "Gender\n",
    "Website session activity\n",
    "Training set of users\n",
    "\n",
    "**What do you know about the data so far?**\n",
    "Even though this is a data set provided by Kaggle I noticed there are still a few different data items which may require a little clean so that it can be used for analysis.  \n",
    "\n",
    "** Why did you chose this topic?**\n",
    "I am a frequent traveler whom ironically has looked into using AirBnb many times but I could never find the type of place that I wanted with my travel dates.  I'm extremely curious of how I would have ranked if I were to do similar analysis.  In addition I have a project at work that will soon begin evaluating user actions for a large enterprise IT systems where they plan to track user actions with the intent of predicting when a user will conduct a search, read a document and produce a citation as a result.  \n"
   ]
  },
  {
   "cell_type": "markdown",
   "metadata": {},
   "source": []
  },
  {
   "cell_type": "code",
   "execution_count": null,
   "metadata": {
    "collapsed": true
   },
   "outputs": [],
   "source": []
  }
 ],
 "metadata": {
  "kernelspec": {
   "display_name": "Python 2",
   "language": "python",
   "name": "python2"
  },
  "language_info": {
   "codemirror_mode": {
    "name": "ipython",
    "version": 2
   },
   "file_extension": ".py",
   "mimetype": "text/x-python",
   "name": "python",
   "nbconvert_exporter": "python",
   "pygments_lexer": "ipython2",
   "version": "2.7.11"
  }
 },
 "nbformat": 4,
 "nbformat_minor": 0
}
